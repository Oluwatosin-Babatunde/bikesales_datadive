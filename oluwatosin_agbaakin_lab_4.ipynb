{
  "nbformat": 4,
  "nbformat_minor": 0,
  "metadata": {
    "colab": {
      "provenance": [],
      "include_colab_link": true
    },
    "kernelspec": {
      "name": "python3",
      "display_name": "Python 3"
    },
    "language_info": {
      "name": "python"
    }
  },
  "cells": [
    {
      "cell_type": "markdown",
      "metadata": {
        "id": "view-in-github",
        "colab_type": "text"
      },
      "source": [
        "<a href=\"https://colab.research.google.com/github/Oluwatosin-Babatunde/bikesales_datadive/blob/main/oluwatosin_agbaakin_lab_4.ipynb\" target=\"_parent\"><img src=\"https://colab.research.google.com/assets/colab-badge.svg\" alt=\"Open In Colab\"/></a>"
      ]
    },
    {
      "cell_type": "markdown",
      "source": [
        "# **Oluwatosin Agbaakin - Cloud Computing Lab 4 - 2001292765**"
      ],
      "metadata": {
        "id": "xij-IL1pYWPd"
      }
    },
    {
      "cell_type": "markdown",
      "source": [
        "# **PART A**\n",
        "\n",
        "---\n",
        "\n"
      ],
      "metadata": {
        "id": "UduvleMd--p4"
      }
    },
    {
      "cell_type": "markdown",
      "source": [
        "# **Import Libraries, initialize Spark, and load dataset and including error handling**"
      ],
      "metadata": {
        "id": "QqHKluFRhqax"
      }
    },
    {
      "cell_type": "code",
      "source": [
        "!pip install pyspark"
      ],
      "metadata": {
        "colab": {
          "base_uri": "https://localhost:8080/"
        },
        "id": "0wDGVLcKIGm6",
        "outputId": "af555a94-65d8-4cf0-ffd9-0fdfa69818f3"
      },
      "execution_count": 7,
      "outputs": [
        {
          "output_type": "stream",
          "name": "stdout",
          "text": [
            "Requirement already satisfied: pyspark in /usr/local/lib/python3.10/dist-packages (3.5.3)\n",
            "Requirement already satisfied: py4j==0.10.9.7 in /usr/local/lib/python3.10/dist-packages (from pyspark) (0.10.9.7)\n"
          ]
        }
      ]
    },
    {
      "cell_type": "code",
      "execution_count": 1,
      "metadata": {
        "id": "xsYza4Gv2Mwy",
        "colab": {
          "base_uri": "https://localhost:8080/"
        },
        "outputId": "ca577888-71ab-4650-cdc0-98b96d112b76"
      },
      "outputs": [
        {
          "output_type": "stream",
          "name": "stdout",
          "text": [
            "Spark session initialized.\n",
            "Data loaded successfully.\n",
            "+----+----+--------------------+-----------+----------------+-------------+----------+---------+\n",
            "|Year|App.|               Taxon|      Class|           Order|       Family|     Genus|     Term|\n",
            "+----+----+--------------------+-----------+----------------+-------------+----------+---------+\n",
            "|2016|   I|      Aquila heliaca|       Aves|   Falconiformes| Accipitridae|    Aquila|   bodies|\n",
            "|2016|   I|      Aquila heliaca|       Aves|   Falconiformes| Accipitridae|    Aquila|   bodies|\n",
            "|2016|   I|Haliaeetus albicilla|       Aves|   Falconiformes| Accipitridae|Haliaeetus| feathers|\n",
            "|2016|   I|Haliaeetus albicilla|       Aves|   Falconiformes| Accipitridae|Haliaeetus|specimens|\n",
            "|2016|   I|Haliaeetus albicilla|       Aves|   Falconiformes| Accipitridae|Haliaeetus|specimens|\n",
            "|2016|   I|Haliaeetus albicilla|       Aves|   Falconiformes| Accipitridae|Haliaeetus|   bodies|\n",
            "|2016|   I|      Harpia harpyja|       Aves|   Falconiformes| Accipitridae|    Harpia| feathers|\n",
            "|2016|   I|      Harpia harpyja|       Aves|   Falconiformes| Accipitridae|    Harpia| feathers|\n",
            "|2016|   I|      Harpia harpyja|       Aves|   Falconiformes| Accipitridae|    Harpia| feathers|\n",
            "|2016|   I|Acipenser breviro...|Actinopteri|Acipenseriformes|Acipenseridae| Acipenser|     live|\n",
            "+----+----+--------------------+-----------+----------------+-------------+----------+---------+\n",
            "only showing top 10 rows\n",
            "\n"
          ]
        }
      ],
      "source": [
        "# Import necessary libraries\n",
        "from pyspark.sql import SparkSession\n",
        "from pyspark.sql.functions import col, count, desc\n",
        "from pyspark.sql.utils import AnalysisException\n",
        "import matplotlib.pyplot as plt\n",
        "\n",
        "# Initialize Spark with optimized configurations for large datasets\n",
        "try:\n",
        "    spark = SparkSession.builder \\\n",
        "        .appName(\"WildlifeTradeAnalysis\") \\\n",
        "        .config(\"spark.sql.shuffle.partitions\", \"50\") \\\n",
        "        .config(\"spark.executor.memory\", \"4g\") \\\n",
        "        .getOrCreate()\n",
        "    print(\"Spark session initialized.\")\n",
        "except Exception as e:\n",
        "    print(f\"Error initializing Spark: {e}\")\n",
        "\n",
        "# Load dataset with error handling\n",
        "data_path = \"/home/wildlife_trade.csv\"\n",
        "try:\n",
        "    wildlife_df = spark.read.csv(data_path, header=True, inferSchema=True)\n",
        "    print(\"Data loaded successfully.\")\n",
        "except AnalysisException as ae:\n",
        "    print(f\"Data loading failed: {ae}\")\n",
        "except Exception as e:\n",
        "    print(f\"Unexpected error: {e}\")\n",
        "\n",
        "# Display a sample to verify data structure\n",
        "wildlife_df.show(10)"
      ]
    },
    {
      "cell_type": "markdown",
      "source": [
        "# **Most Frequent Class of Animal Traded with visualization:**"
      ],
      "metadata": {
        "id": "YfIHkqxU9MQI"
      }
    },
    {
      "cell_type": "code",
      "source": [
        "try:\n",
        "    most_frequent_class = wildlife_df.groupBy(\"Class\") \\\n",
        "        .agg(count(\"Class\").alias(\"count\")) \\\n",
        "        .orderBy(desc(\"count\")) \\\n",
        "        .limit(5)\n",
        "\n",
        "    most_frequent_class.show()\n",
        "\n",
        "    # Convert to Pandas DataFrame for visualization\n",
        "    frequent_class_pd = most_frequent_class.toPandas()\n",
        "\n",
        "    # Plot the top 5 most frequent classes of animals traded\n",
        "    plt.figure(figsize=(10, 6))\n",
        "    plt.bar(frequent_class_pd[\"Class\"], frequent_class_pd[\"count\"])\n",
        "    plt.title(\"Top 5 Most Frequent Classes of Animals Traded\")\n",
        "    plt.xlabel(\"Animal Class\")\n",
        "    plt.ylabel(\"Frequency\")\n",
        "    plt.show()\n",
        "\n",
        "except Exception as e:\n",
        "    print(f\"Error in Task 1: {e}\")"
      ],
      "metadata": {
        "id": "vce6CfdD3NWN",
        "colab": {
          "base_uri": "https://localhost:8080/",
          "height": 689
        },
        "outputId": "e5b99be6-debc-4e92-96de-6c1440432487"
      },
      "execution_count": 2,
      "outputs": [
        {
          "output_type": "stream",
          "name": "stdout",
          "text": [
            "+-----------+-----+\n",
            "|      Class|count|\n",
            "+-----------+-----+\n",
            "|   Reptilia|18430|\n",
            "|   Anthozoa| 8781|\n",
            "|   Mammalia| 8505|\n",
            "|       Aves| 6861|\n",
            "|Actinopteri| 2759|\n",
            "+-----------+-----+\n",
            "\n"
          ]
        },
        {
          "output_type": "display_data",
          "data": {
            "text/plain": [
              "<Figure size 1000x600 with 1 Axes>"
            ],
            "image/png": "[encoded data removed]"
          },
          "metadata": {}
        }
      ]
    },
    {
      "cell_type": "markdown",
      "source": [
        "# **List all items (Term) traded associated with mammals:**"
      ],
      "metadata": {
        "id": "vOacDPhzzQHO"
      }
    },
    {
      "cell_type": "code",
      "source": [
        "mammal_items = wildlife_df.filter(col(\"Class\") == \"Mammalia\") \\\n",
        "    .select(\"Term\") \\\n",
        "    .distinct()\n",
        "\n",
        "# Display the result\n",
        "mammal_items.show()"
      ],
      "metadata": {
        "colab": {
          "base_uri": "https://localhost:8080/"
        },
        "id": "Jg0eiGYqzn3E",
        "outputId": "039951ee-5d20-49d3-d140-1ca43d4126ce"
      },
      "execution_count": 3,
      "outputs": [
        {
          "output_type": "stream",
          "name": "stdout",
          "text": [
            "+-------------------+\n",
            "|               Term|\n",
            "+-------------------+\n",
            "|               gall|\n",
            "|             baleen|\n",
            "|              claws|\n",
            "|        unspecified|\n",
            "|               meat|\n",
            "|             skulls|\n",
            "|fur product (small)|\n",
            "|     ivory carvings|\n",
            "|            extract|\n",
            "|             fibres|\n",
            "|      horn carvings|\n",
            "|              tails|\n",
            "|               hair|\n",
            "|               feet|\n",
            "|             scales|\n",
            "|          specimens|\n",
            "|        bone pieces|\n",
            "|      bone carvings|\n",
            "|        skin pieces|\n",
            "|        horn pieces|\n",
            "+-------------------+\n",
            "only showing top 20 rows\n",
            "\n"
          ]
        }
      ]
    },
    {
      "cell_type": "markdown",
      "source": [
        "# **List all CITES Appendix II species**"
      ],
      "metadata": {
        "id": "70ZSHuRbg-HL"
      }
    },
    {
      "cell_type": "code",
      "source": [
        "\n",
        "appendix_ii_species = wildlife_df.filter(col(\"`App.`\") == \"II\") \\\n",
        "    .select(\"Taxon\") \\\n",
        "    .distinct()\n",
        "\n",
        "# Show result\n",
        "appendix_ii_species.show()"
      ],
      "metadata": {
        "colab": {
          "base_uri": "https://localhost:8080/"
        },
        "id": "bqWrXDqrhAGH",
        "outputId": "1ac0757c-8c1d-449c-e7d9-09ccdc067e5a"
      },
      "execution_count": 4,
      "outputs": [
        {
          "output_type": "stream",
          "name": "stdout",
          "text": [
            "+--------------------+\n",
            "|               Taxon|\n",
            "+--------------------+\n",
            "|   Aquila chrysaetos|\n",
            "|     Buteo polyosoma|\n",
            "|  Polyboroides typus|\n",
            "|Acipenser nudiven...|\n",
            "| Acropora digitifera|\n",
            "|    Acropora grandis|\n",
            "|     Acropora maryae|\n",
            "|     Acropora navini|\n",
            "|Montipora austral...|\n",
            "|Montipora peltifo...|\n",
            "|     Balaeniceps rex|\n",
            "|   Tillandsia hybrid|\n",
            "|  Penelopides panini|\n",
            "|  Cacatua pastinator|\n",
            "|Consolea spinosis...|\n",
            "|   Escobaria sneedii|\n",
            "|Ferocactus chrysa...|\n",
            "|Ferocactus schwarzii|\n",
            "|Geohintonia mexicana|\n",
            "|Lymanbensonia cre...|\n",
            "+--------------------+\n",
            "only showing top 20 rows\n",
            "\n"
          ]
        }
      ]
    },
    {
      "cell_type": "markdown",
      "source": [
        "# **Most common animal (Taxon) traded in 2017 with visualization**"
      ],
      "metadata": {
        "id": "FqD0lrKh0I2S"
      }
    },
    {
      "cell_type": "code",
      "source": [
        "from pyspark.sql import SparkSession\n",
        "from pyspark.sql.functions import col, count, desc\n",
        "import matplotlib.pyplot as plt\n",
        "\n",
        "common_taxon_2017 = wildlife_df.filter(col(\"Year\") == 2017) \\\n",
        "    .groupBy(\"Taxon\") \\\n",
        "    .agg(count(\"Taxon\").alias(\"count\")) \\\n",
        "    .orderBy(desc(\"count\")) \\\n",
        "    .limit(5)\n",
        "\n",
        "# Show the result in Spark\n",
        "common_taxon_2017.show()\n",
        "\n",
        "# Convert result to Pandas DataFrame for plotting\n",
        "common_taxon_2017_pd = common_taxon_2017.toPandas()\n",
        "\n",
        "# Plotting the chart\n",
        "plt.figure(figsize=(10, 6))\n",
        "plt.bar(common_taxon_2017_pd[\"Taxon\"], common_taxon_2017_pd[\"count\"], width=0.5, color='skyblue')\n",
        "plt.title(\"Top 5 Most Common Taxon Traded in 2017\")\n",
        "plt.xlabel(\"Taxon\")\n",
        "plt.ylabel(\"Frequency\")\n",
        "plt.xticks(rotation=45, ha=\"right\")\n",
        "plt.show()"
      ],
      "metadata": {
        "colab": {
          "base_uri": "https://localhost:8080/",
          "height": 804
        },
        "id": "HsT92OqqLA3c",
        "outputId": "83e31cd5-a764-4c16-ef45-18cf198a8af3"
      },
      "execution_count": 10,
      "outputs": [
        {
          "output_type": "stream",
          "name": "stdout",
          "text": [
            "+--------------------+-----+\n",
            "|               Taxon|count|\n",
            "+--------------------+-----+\n",
            "|Alligator mississ...|   18|\n",
            "|Crocodylus niloticus|    7|\n",
            "|  Python reticulatus|    5|\n",
            "|Arctocephalus pus...|    5|\n",
            "|    Varanus salvator|    4|\n",
            "+--------------------+-----+\n",
            "\n"
          ]
        },
        {
          "output_type": "display_data",
          "data": {
            "text/plain": [
              "<Figure size 1000x600 with 1 Axes>"
            ],
            "image/png": "[encoded data removed]"
          },
          "metadata": {}
        }
      ]
    },
    {
      "cell_type": "markdown",
      "source": [
        "#**Classes of animals for specific items:**"
      ],
      "metadata": {
        "id": "57y2_SA10ida"
      }
    },
    {
      "cell_type": "code",
      "source": [
        "from pyspark.sql import SparkSession\n",
        "from pyspark.sql.functions import col, count, desc, collect_list\n",
        "import matplotlib.pyplot as plt\n",
        "\n",
        "# Define items to filter\n",
        "specific_items = [\"teeth\", \"live\", \"carvings\"]\n",
        "\n",
        "# Filter for specified items\n",
        "items_classes = wildlife_df.filter(col(\"Term\").isin(specific_items)) \\\n",
        "    .select(\"Class\", \"Term\") \\\n",
        "    .distinct() \\\n",
        "    .groupBy(\"Term\") \\\n",
        "    .agg(collect_list(\"Class\").alias(\"Classes\"))\n",
        "\n",
        "# Show results without truncation\n",
        "items_classes.show(truncate=False)"
      ],
      "metadata": {
        "id": "EZbJHNcL1GB3",
        "colab": {
          "base_uri": "https://localhost:8080/"
        },
        "outputId": "9e97405f-55cf-4b87-86d6-19ae69cedb4c"
      },
      "execution_count": 13,
      "outputs": [
        {
          "output_type": "stream",
          "name": "stdout",
          "text": [
            "+--------+--------------------------------------------------------------------------------------------------------------------------------------------------------+\n",
            "|Term    |Classes                                                                                                                                                 |\n",
            "+--------+--------------------------------------------------------------------------------------------------------------------------------------------------------+\n",
            "|carvings|[Gastropoda, Mammalia, Aves, Reptilia, Bivalvia, Hydrozoa, Anthozoa]                                                                                    |\n",
            "|live    |[Aves, Reptilia, Mammalia, Insecta, Dipneusti, Anthozoa, Arachnida, Elasmobranchii, Gastropoda, Amphibia, Hirudinoidea, Hydrozoa, Actinopteri, Bivalvia]|\n",
            "|teeth   |[Mammalia, Reptilia]                                                                                                                                    |\n",
            "+--------+--------------------------------------------------------------------------------------------------------------------------------------------------------+\n",
            "\n"
          ]
        }
      ]
    },
    {
      "cell_type": "markdown",
      "source": [
        "# **PART B**\n",
        "\n",
        "---\n",
        "\n"
      ],
      "metadata": {
        "id": "swwz6ScJ_E4j"
      }
    },
    {
      "cell_type": "markdown",
      "source": [
        "# **Import libraries and load dataset**"
      ],
      "metadata": {
        "id": "lutehI2z1Uyr"
      }
    },
    {
      "cell_type": "code",
      "source": [
        "from pyspark.sql import Row\n",
        "from pyspark.sql.functions import col, explode, collect_list\n",
        "\n",
        "# Load dataset\n",
        "graph_data_path = \"/home/graph data.csv\"\n",
        "graph_df = spark.read.csv(graph_data_path, header=True, inferSchema=True)\n",
        "\n",
        "# Display sample\n",
        "graph_df.show(5)"
      ],
      "metadata": {
        "id": "AqiATWAi2ccu",
        "colab": {
          "base_uri": "https://localhost:8080/"
        },
        "outputId": "e6f3a1b5-e11f-41c6-eac3-2bde27582cb3"
      },
      "execution_count": 14,
      "outputs": [
        {
          "output_type": "stream",
          "name": "stdout",
          "text": [
            "+---+---+---+---+---+---+---+---+---+---+---+---+---+---+---+---+---+---+---+---+---+---+---+---+---+\n",
            "| 00| 11| 02| 13| 14| 05| 16| 17| 18| 09|010|111|012|113|114|015|116|117|018|119|020|121|022|123|124|\n",
            "+---+---+---+---+---+---+---+---+---+---+---+---+---+---+---+---+---+---+---+---+---+---+---+---+---+\n",
            "|  1|  0|  0|  1|  0|  0|  1|  0|  1|  0|  0|  1|  0|  0|  1|  0|  1|  0|  1|  0|  0|  1|  0|  1|  0|\n",
            "|  0|  1|  0|  1|  1|  0|  0|  0|  1|  0|  0|  0|  0|  1|  1|  0|  0|  1|  0|  0|  0|  1|  1|  0|  1|\n",
            "|  0|  1|  1|  0|  0|  0|  1|  0|  0|  0|  1|  1|  0|  1|  0|  0|  1|  1|  0|  0|  1|  0|  1|  1|  0|\n",
            "|  0|  0|  1|  1|  0|  1|  1|  1|  0|  0|  0|  1|  0|  1|  0|  0|  1|  1|  1|  0|  0|  0|  0|  1|  1|\n",
            "|  1|  0|  1|  1|  0|  0|  1|  0|  1|  0|  1|  1|  0|  1|  0|  0|  1|  1|  0|  0|  1|  1|  1|  0|  0|\n",
            "+---+---+---+---+---+---+---+---+---+---+---+---+---+---+---+---+---+---+---+---+---+---+---+---+---+\n",
            "only showing top 5 rows\n",
            "\n"
          ]
        }
      ]
    },
    {
      "cell_type": "markdown",
      "source": [
        "# **Find All Self-Loops:**"
      ],
      "metadata": {
        "id": "8m4oF-49_kxI"
      }
    },
    {
      "cell_type": "code",
      "source": [
        "# Display column names\n",
        "print(graph_df.columns)\n",
        "self_loops = graph_df.filter(col(\"source\") == col(\"destination\"))\n",
        "\n",
        "# Show result\n",
        "self_loops.show()"
      ],
      "metadata": {
        "colab": {
          "base_uri": "https://localhost:8080/"
        },
        "id": "PRkhe87z_rMR",
        "outputId": "65d6c6e4-8167-4deb-cf64-b868263c5ed8"
      },
      "execution_count": 18,
      "outputs": [
        {
          "output_type": "stream",
          "name": "stdout",
          "text": [
            "['source', 'destination', '02', '13', '14', '05', '16', '17', '18', '09', '010', '111', '012', '113', '114', '015', '116', '117', '018', '119', '020', '121', '022', '123', '124']\n",
            "+------+-----------+---+---+---+---+---+---+---+---+---+---+---+---+---+---+---+---+---+---+---+---+---+---+---+\n",
            "|source|destination| 02| 13| 14| 05| 16| 17| 18| 09|010|111|012|113|114|015|116|117|018|119|020|121|022|123|124|\n",
            "+------+-----------+---+---+---+---+---+---+---+---+---+---+---+---+---+---+---+---+---+---+---+---+---+---+---+\n",
            "|     0|          0|  1|  1|  0|  1|  1|  1|  0|  0|  0|  1|  0|  1|  0|  0|  1|  1|  1|  0|  0|  0|  0|  1|  1|\n",
            "|     0|          0|  0|  1|  0|  1|  0|  1|  1|  0|  1|  1|  0|  0|  1|  0|  0|  1|  1|  0|  1|  1|  0|  0|  1|\n",
            "|     1|          1|  0|  1|  1|  0|  0|  0|  1|  0|  1|  0|  1|  0|  0|  1|  1|  0|  1|  0|  0|  1|  0|  1|  1|\n",
            "|     1|          1|  0|  1|  0|  0|  1|  0|  1|  0|  0|  1|  0|  0|  0|  0|  1|  1|  1|  0|  0|  1|  1|  1|  0|\n",
            "|     0|          0|  1|  1|  1|  0|  1|  0|  0|  1|  1|  0|  0|  1|  1|  0|  0|  0|  0|  0|  1|  1|  1|  0|  0|\n",
            "|     1|          1|  0|  1|  0|  0|  0|  0|  0|  1|  1|  1|  0|  1|  0|  1|  1|  0|  1|  0|  0|  0|  0|  1|  0|\n",
            "|     1|          1|  0|  0|  0|  0|  1|  0|  1|  0|  1|  1|  1|  0|  0|  0|  0|  0|  1|  0|  1|  1|  0|  1|  0|\n",
            "|     0|          0|  1|  1|  0|  0|  0|  0|  1|  0|  1|  1|  0|  1|  0|  1|  1|  0|  0|  0|  0|  1|  0|  0|  1|\n",
            "|     0|          0|  1|  1|  0|  1|  1|  0|  1|  0|  0|  0|  1|  0|  1|  1|  0|  0|  1|  1|  0|  0|  1|  1|  1|\n",
            "|     1|          1|  0|  1|  0|  0|  1|  0|  0|  0|  0|  1|  0|  1|  1|  1|  0|  0|  1|  0|  0|  0|  1|  1|  0|\n",
            "|     0|          0|  1|  1|  0|  0|  0|  0|  1|  0|  1|  1|  0|  1|  0|  0|  1|  1|  0|  0|  0|  1|  0|  1|  0|\n",
            "|     0|          0|  0|  1|  0|  0|  0|  1|  1|  1|  0|  0|  1|  0|  0|  1|  1|  0|  0|  0|  1|  0|  1|  0|  0|\n",
            "|     0|          0|  1|  1|  1|  0|  0|  0|  1|  0|  1|  1|  0|  1|  1|  0|  0|  0|  0|  1|  1|  1|  0|  1|  0|\n",
            "+------+-----------+---+---+---+---+---+---+---+---+---+---+---+---+---+---+---+---+---+---+---+---+---+---+---+\n",
            "\n"
          ]
        }
      ]
    },
    {
      "cell_type": "markdown",
      "source": [
        "# **The node with the largest out-degree:**"
      ],
      "metadata": {
        "id": "5GPOLOTbA0lx"
      }
    },
    {
      "cell_type": "code",
      "source": [
        "out_degree = graph_df.groupBy(\"source\") \\\n",
        "    .count() \\\n",
        "    .orderBy(desc(\"count\")) \\\n",
        "    .limit(1)\n",
        "\n",
        "# Show result\n",
        "out_degree.show()"
      ],
      "metadata": {
        "colab": {
          "base_uri": "https://localhost:8080/"
        },
        "id": "JCAplr5aAyBt",
        "outputId": "b8599619-ce1e-4d99-f535-1bc518d884d7"
      },
      "execution_count": 19,
      "outputs": [
        {
          "output_type": "stream",
          "name": "stdout",
          "text": [
            "+------+-----+\n",
            "|source|count|\n",
            "+------+-----+\n",
            "|     0|   16|\n",
            "+------+-----+\n",
            "\n"
          ]
        }
      ]
    },
    {
      "cell_type": "markdown",
      "source": [
        "# **The node with the largest in-degree:**"
      ],
      "metadata": {
        "id": "Mh90kj5SBCa6"
      }
    },
    {
      "cell_type": "code",
      "source": [
        "in_degree = graph_df.groupBy(\"destination\") \\\n",
        "    .count() \\\n",
        "    .orderBy(desc(\"count\")) \\\n",
        "    .limit(1)\n",
        "\n",
        "# Show the result\n",
        "in_degree.show()"
      ],
      "metadata": {
        "colab": {
          "base_uri": "https://localhost:8080/"
        },
        "id": "H-F-HUb6BKCC",
        "outputId": "49dcdbfa-4b3f-47f0-ea31-42d53f6191b3"
      },
      "execution_count": 20,
      "outputs": [
        {
          "output_type": "stream",
          "name": "stdout",
          "text": [
            "+-----------+-----+\n",
            "|destination|count|\n",
            "+-----------+-----+\n",
            "|          1|   13|\n",
            "+-----------+-----+\n",
            "\n"
          ]
        }
      ]
    },
    {
      "cell_type": "markdown",
      "source": [
        "# **Distribution of vertices in-degrees:**"
      ],
      "metadata": {
        "id": "qRyjGbtGBv2F"
      }
    },
    {
      "cell_type": "code",
      "source": [
        "in_degree_distribution = graph_df.groupBy(\"destination\") \\\n",
        "    .count() \\\n",
        "    .groupBy(\"count\") \\\n",
        "    .count() \\\n",
        "    .orderBy(\"count\")\n",
        "\n",
        "# Show result\n",
        "in_degree_distribution.show()"
      ],
      "metadata": {
        "colab": {
          "base_uri": "https://localhost:8080/"
        },
        "id": "OuTRjPXkBxlB",
        "outputId": "8bb9c044-088c-4054-9d49-be3eef8c2610"
      },
      "execution_count": 21,
      "outputs": [
        {
          "output_type": "stream",
          "name": "stdout",
          "text": [
            "+-----+-----+\n",
            "|count|count|\n",
            "+-----+-----+\n",
            "|   11|    1|\n",
            "|   13|    1|\n",
            "+-----+-----+\n",
            "\n"
          ]
        }
      ]
    },
    {
      "cell_type": "markdown",
      "source": [
        "# **Find a Path Between Node 1 and Node 9**"
      ],
      "metadata": {
        "id": "kyBUsuU_B4hx"
      }
    },
    {
      "cell_type": "code",
      "source": [
        "from pyspark.sql.functions import array_contains, array_union, array, lit\n",
        "\n",
        "# Initialize start and end nodes\n",
        "start_node = 1\n",
        "end_node = 9\n",
        "\n",
        "# Initialize a DataFrame for paths\n",
        "paths_df = spark.createDataFrame([(start_node, [start_node])], [\"node\", \"path\"])\n",
        "\n",
        "# Initialize final_path to None before the loop\n",
        "final_path = None\n",
        "\n",
        "for _ in range(25):\n",
        "    # Join paths_df with graph_df to expand paths\n",
        "    expanded_paths = paths_df.join(graph_df, paths_df.node == graph_df.source) \\\n",
        "        .select(graph_df.destination.alias(\"node\"),\n",
        "                array_union(paths_df.path, array(graph_df.destination)).alias(\"path\")) \\\n",
        "        .filter(~array_contains(col(\"path\"), col(\"node\"))) # Use array_contains instead of isin\n",
        "\n",
        "    # Check if destination node is reached\n",
        "    if expanded_paths.filter(col(\"node\") == end_node).count() > 0:\n",
        "        final_path = expanded_paths.filter(col(\"node\") == end_node).select(\"path\").first()[\"path\"]\n",
        "        break\n",
        "\n",
        "    # Update paths_df with expanded_paths for the next iteration\n",
        "    paths_df = expanded_paths\n",
        "\n",
        "# Show result, handle case where final_path is None\n",
        "if final_path:\n",
        "    print(f\"Path from node {start_node} to node {end_node}: {final_path}\")\n",
        "else:\n",
        "    print(f\"No path found from node {start_node} to node {end_node}\")"
      ],
      "metadata": {
        "colab": {
          "base_uri": "https://localhost:8080/"
        },
        "id": "m_OArnVvSIgp",
        "outputId": "501092a0-0e3c-4c19-f1e4-bce5accafcdc"
      },
      "execution_count": 30,
      "outputs": [
        {
          "output_type": "stream",
          "name": "stdout",
          "text": [
            "No path found from node 1 to node 9\n"
          ]
        }
      ]
    },
    {
      "cell_type": "markdown",
      "source": [
        "# **Oluwatosin Agbaakin - Cloud Computing Lab 4 - 2001292765**"
      ],
      "metadata": {
        "id": "H8ziXZmOYbAn"
      }
    }
  ]
}